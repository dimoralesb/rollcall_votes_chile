{
 "cells": [
  {
   "cell_type": "markdown",
   "metadata": {},
   "source": [
    "This notebook obtains voting data from the Chilean Chamber of Deputies. This data were analyzed in the paper \"Parliamentary roll-call voting as a complex dynamical system: The case of Chile\" by Diego Morales-Bader, Ramón D. Castillo, Ralf F. A. Cox, and Carlos Ascencio-Garrido."
   ]
  },
  {
   "cell_type": "code",
   "execution_count": null,
   "metadata": {},
   "outputs": [],
   "source": [
    "# Libraries to get the data from the web http://opendata.camara.cl\n",
    "from urllib.request import urlopen\n",
    "from xml.dom import minidom\n",
    "\n",
    "# To store data in a dataframe\n",
    "import pandas as pd\n",
    "\n",
    "# To format voting dates\n",
    "import datetime"
   ]
  },
  {
   "cell_type": "code",
   "execution_count": null,
   "metadata": {},
   "outputs": [],
   "source": [
    "# Lists of fields to be downloaded\n",
    "Id_List = []\n",
    "Fecha_List = []\n",
    "Desc_List = []\n",
    "Si_List = []\n",
    "No_List = []\n",
    "Abs_List = []\n",
    "Disp_List = []\n",
    "Resultado_List = []\n",
    "Tipo_List = []\n",
    "Quorum_List = []\n",
    "\n",
    "# Dataframe\n",
    "df = pd.DataFrame(columns=['ID', \"Fecha\", 'Descripción', \"Si\", \"No\", \"Abstención\", \"Dispensado\", \"Resultado\", \"Tipo\", \"Quorum\"])\n",
    "\n",
    "# Range of years to download\n",
    "from_year = 2002\n",
    "to_year = 2021\n",
    "\n",
    "# iterate over years\n",
    "for i in range(from_year, to_year + 1):\n",
    "    # Link to the data\n",
    "    url_str = \"http://opendata.camara.cl/camaradiputados/WServices/WSLegislativo.asmx/retornarVotacionesXAnno?prmAnno=\" + str(i)\n",
    "    url = urlopen(url_str) # open the url\n",
    "    mydoc = minidom.parse(url) # parse the content\n",
    "    # Get the elements\n",
    "    Votaciones = mydoc.getElementsByTagName(\"Votacion\")\n",
    "    for votacion in Votaciones:\n",
    "        id = votacion.getElementsByTagName(\"Id\")[0]\n",
    "        fecha = votacion.getElementsByTagName(\"Fecha\")[0]\n",
    "        desc = votacion.getElementsByTagName(\"Descripcion\")[0]\n",
    "        si = votacion.getElementsByTagName(\"TotalSi\")[0]\n",
    "        no = votacion.getElementsByTagName(\"TotalNo\")[0]\n",
    "        abs = votacion.getElementsByTagName(\"TotalAbstencion\")[0]\n",
    "        disp = votacion.getElementsByTagName(\"TotalDispensado\")[0]\n",
    "\n",
    "        try:\n",
    "            resultado = votacion.getElementsByTagName(\"Resultado\")[0]\n",
    "            Resultado_List.append(str(resultado.firstChild.nodeValue))\n",
    "        except:\n",
    "            Resultado_List.append(\"\")\n",
    "\n",
    "        tipo = votacion.getElementsByTagName(\"Tipo\")[0]\n",
    "        quorum = votacion.getElementsByTagName(\"Quorum\")[0]\n",
    "\n",
    "        # Store the elements in the lists\n",
    "        Id_List.append(str(id.firstChild.data))\n",
    "        Fecha_List.append(str(fecha.firstChild.data))\n",
    "        Desc_List.append(str(desc.firstChild.data))\n",
    "        Si_List.append(str(si.firstChild.data))\n",
    "        No_List.append(str(no.firstChild.data))\n",
    "        Abs_List.append(str(abs.firstChild.data))\n",
    "        Disp_List.append(str(disp.firstChild.data))\n",
    "        Tipo_List.append(str(tipo.firstChild.nodeValue))\n",
    "        Quorum_List.append(str(quorum.firstChild.nodeValue))\n",
    "\n",
    "    print('Year:', i)\n",
    "\n",
    "# Asiggn each list to the dataframe\n",
    "df[\"ID\"] = Id_List\n",
    "df[\"Fecha\"] = Fecha_List\n",
    "df[\"Descripción\"] = Desc_List\n",
    "df[\"Si\"] = Si_List\n",
    "df[\"No\"] = No_List\n",
    "df[\"Abstención\"] = Abs_List\n",
    "df[\"Dispensado\"] = Disp_List\n",
    "df[\"Resultado\"] = Resultado_List\n",
    "df[\"Tipo\"] = Tipo_List\n",
    "df[\"Quorum\"] = Quorum_List"
   ]
  },
  {
   "cell_type": "code",
   "execution_count": null,
   "metadata": {},
   "outputs": [],
   "source": [
    "# Convert string to int\n",
    "df = df.astype({\"Si\":\"int\", \"No\":\"int\", \"Abstención\":\"int\", \"Dispensado\":\"int\"})\n",
    "# Convert the date column ('Fecha') to datetime format\n",
    "df['Fecha'] = pd.to_datetime(df['Fecha'])\n",
    "df = df.sort_values(by='Fecha', ignore_index=True)"
   ]
  },
  {
   "cell_type": "code",
   "execution_count": null,
   "metadata": {},
   "outputs": [],
   "source": [
    "df.head()"
   ]
  },
  {
   "cell_type": "code",
   "execution_count": null,
   "metadata": {},
   "outputs": [],
   "source": [
    "# Calculate missing voting outcomes\n",
    "def missing_voting_outcome(row):\n",
    "    total_session = row['Si'] + row['No'] + row['Abstención']\n",
    "    if total_session > 0:\n",
    "        percentage_yes_simple = row['Si'] / total_session* 100\n",
    "    else:\n",
    "        percentage_yes_simple = total_session\n",
    "    if (row[\"Resultado\"] == \"\") and (row[\"Quorum\"] == 'Quórum Simple'):\n",
    "        if percentage_yes_simple > 50:\n",
    "            return 'Aprobado'\n",
    "        elif percentage_yes_simple <= 50:\n",
    "            return \"Unánime\"\n",
    "    elif row[\"Resultado\"] == \"\" and row[\"Quorum\"] == 'Quórum Calificado':\n",
    "        if row['Si'] / 120 - row['Dispensado'] > 0.5:\n",
    "            return 'Aprobado'\n",
    "        elif row['Si'] / 120 - row['Dispensado'] <= 0.5:\n",
    "            return \"Unánime\"\n",
    "    elif row[\"Resultado\"] == \"\" and row[\"Quorum\"] == 'Ley Orgánica Constitucional':\n",
    "        if row['Si'] / 120 - row['Dispensado'] >= 4/7:\n",
    "            return 'Aprobado'\n",
    "        if row['Si'] / 120 - row['Dispensado'] < 4/7:\n",
    "            return \"Unánime\"\n",
    "    elif row[\"Resultado\"] == \"\" and (row[\"Quorum\"] == 'Reforma Constitucional 2/3' or row[\"Quorum\"] == '2/3'):\n",
    "        if row['Si'] / 120 - row['Dispensado'] >= 2/3:\n",
    "            return 'Aprobado'\n",
    "        if row['Si'] / 120 - row['Dispensado'] < 2/3:\n",
    "            return 'Unánime'\n",
    "    elif row[\"Resultado\"] == \"\" and (row[\"Quorum\"] == 'Reforma Constitucional 3/5' or row[\"Quorum\"] == '3/5'):\n",
    "        if row['Si'] / 120 - row['Dispensado'] >= 3/5:\n",
    "            return 'Aprobado'\n",
    "        if row['Si'] / 120 - row['Dispensado'] < 3/5:\n",
    "            return 'Unánime'\n",
    "    elif row[\"Resultado\"] == \"\" and row[\"Quorum\"] == '1/3':\n",
    "        if row['Si'] / 120 - row['Dispensado'] >= 1/3:\n",
    "            return 'Aprobado'\n",
    "        if row['Si'] / 120 - row['Dispensado'] < 1/3:\n",
    "            return 'Unánime'\n",
    "    elif row[\"Resultado\"] != \"\":\n",
    "        return row[\"Resultado\"]\n",
    "\n",
    "df['Resultados2'] = df.apply(lambda row: missing_voting_outcome(row), axis=1)"
   ]
  },
  {
   "attachments": {},
   "cell_type": "markdown",
   "metadata": {},
   "source": [
    "For votes of the type \"Proyecto de Acuerdo\" and \"Proyecto de Resolución\" that have as a voting outcome \"No Quorum\", they are assigned the outcome of \"rejected\" according to the indications of article 114 of the rules of procedure of the Chamber of Deputies of Chile."
   ]
  },
  {
   "cell_type": "code",
   "execution_count": null,
   "metadata": {},
   "outputs": [],
   "source": [
    "def no_quorum_AC_R(row):\n",
    "    if (row[\"Tipo\"] == \"Proyecto de Acuerdo\") or (row[\"Tipo\"] == \"Proyecto de Resolución\"):\n",
    "        if row[\"Resultados2\"] == \"Sin Quórum\":\n",
    "            return 'Unánime'\n",
    "        else:\n",
    "            return row[\"Resultados2\"]\n",
    "    else:\n",
    "        return row[\"Resultados2\"]\n",
    "\n",
    "df['Resultados2'] = df.apply(lambda row: no_quorum_AC_R(row), axis=1)"
   ]
  },
  {
   "attachments": {},
   "cell_type": "markdown",
   "metadata": {},
   "source": [
    "Recodes ties as rejections"
   ]
  },
  {
   "attachments": {},
   "cell_type": "markdown",
   "metadata": {},
   "source": [
    "Voting outcomes are categorized as follows:\n",
    "- Pass or Approved votes = 1\n",
    "- Rejected votes = 2\n",
    "- Ties are considered as rejected votes.\n",
    "- Votes without quorum are considered rejected."
   ]
  },
  {
   "cell_type": "code",
   "execution_count": null,
   "metadata": {},
   "outputs": [],
   "source": [
    "# Ties are considered as rejected votes\n",
    "def ties(row):\n",
    "    if row['Resultados2'] == 'Empate':\n",
    "        return 'Unánime'\n",
    "    else:\n",
    "        return row[\"Resultados2\"]\n",
    "\n",
    "# Categorize voting outcome (df[\"Resultados2\"])\n",
    "def voting_outcome_cat(row):  \n",
    "    if row[\"Resultados2\"] == \"Aprobado\":\n",
    "        return 1\n",
    "    elif row[\"Resultados2\"] == \"Unánime\":\n",
    "        return 2\n",
    "    elif row[\"Resultados2\"] == \"Sin Quórum\":\n",
    "        return 2\n",
    "\n",
    "df['Resultados2'] = df.apply(lambda row: ties(row), axis=1)\n",
    "df['voting_outcome'] = df.apply(lambda row: voting_outcome_cat(row), axis=1)"
   ]
  },
  {
   "attachments": {},
   "cell_type": "markdown",
   "metadata": {},
   "source": [
    "The following changes are made due to discrepancies between session logs and downloaded data. Corrections are made according to the session logs."
   ]
  },
  {
   "cell_type": "code",
   "execution_count": null,
   "metadata": {},
   "outputs": [],
   "source": [
    "# Function to replace the voting outcome\n",
    "def replace_outcome(ID, resultado, outcome):\n",
    "    index = df[df.ID==ID].index[0]\n",
    "    df.loc[index, 'Resultados2'] = resultado\n",
    "    df.loc[index, 'voting_outcome'] = outcome\n",
    "\n",
    "# Function to remove votes from the data\n",
    "def delete_vote(ID):\n",
    "    if df[df.ID==ID].index.size != 0:\n",
    "        index = df[df.ID==ID].index[0]\n",
    "        df.drop(int(index), inplace = True)\n",
    "\n",
    "# Correction of some voting records (votes indicated by their ID)\n",
    "replace_outcome(\"3634\",\"Unánime\",\"2\")\n",
    "replace_outcome(\"3769\",\"Unánime\",\"2\")\n",
    "replace_outcome(\"14563\",\"Unánime\",\"2\")\n",
    "replace_outcome(\"16121\",\"Unánime\",\"2\")\n",
    "replace_outcome(\"16227\",\"Unánime\",\"2\")\n",
    "replace_outcome(\"16253\",\"Unánime\",\"2\")\n",
    "replace_outcome(\"16259\",\"Unánime\",\"2\")\n",
    "replace_outcome(\"34258\",\"Unánime\",\"2\")\n",
    "replace_outcome(\"34760\",\"Unánime\",\"2\")\n",
    "replace_outcome(\"14527\",\"Aprobado\",\"1\")\n",
    "replace_outcome(\"15831\",\"Aprobado\",\"1\")\n",
    "replace_outcome(\"16360\",\"Aprobado\",\"1\")\n",
    "replace_outcome(\"18242\",\"Aprobado\",\"1\")\n",
    "replace_outcome(\"10896\",\"Aprobado\",\"1\")\n",
    "replace_outcome(\"10897\",\"Aprobado\",\"1\")\n",
    "replace_outcome(\"15276\",\"Unánime\",\"2\")\n",
    "replace_outcome(\"15277\",\"Unánime\",\"2\")\n",
    "\n",
    "# Votes that are eliminated due to recording errors and not being found in the session logs.\n",
    "delete_vote(\"30166\")\n",
    "delete_vote(\"31032\")\n",
    "delete_vote(\"30997\")\n",
    "delete_vote(\"10264\")\n",
    "delete_vote(\"32387\")\n",
    "delete_vote(\"2342\")\n",
    "delete_vote(\"32387\")\n",
    "delete_vote(\"2672\")\n",
    "delete_vote(\"2673\")\n",
    "delete_vote(\"36978\")\n",
    "\n",
    "# Changes in the type of quorum required for passing the ballot\n",
    "index = df[df.ID==\"12411\"].index[0]\n",
    "df.loc[index, 'Quorum'] = \"Ley Orgánica Constitucional\"\n",
    "\n",
    "index = df[df.ID==\"16662\"].index[0]\n",
    "df.loc[index, 'Quorum'] = \"3/5\"\n",
    "\n",
    "index = df[df.ID==\"18545\"].index[0]\n",
    "df.loc[index, 'Quorum'] = \"Quórum Calificado\"\n",
    "\n",
    "index = df[df.ID==\"32860\"].index[0]\n",
    "df.loc[index, 'Quorum'] = \"Ley Orgánica Constitucional\"\n",
    "\n",
    "# Changes in the number of votes and the voting result for ballots that were listed with zero votes\n",
    "index = df[df.ID==\"2379\"].index[0]\n",
    "df.loc[index, 'Si'] = 111\n",
    "\n",
    "index = df[df.ID==\"34343\"].index[0]\n",
    "df.loc[index, 'Si'] = 149\n",
    "replace_outcome(\"34343\",\"Aprobado\",\"1\")\n",
    "\n",
    "index = df[df.ID==\"34344\"].index[0]\n",
    "df.loc[index, 'Si'] = 149\n",
    "replace_outcome(\"34344\",\"Aprobado\",\"1\")\n",
    "\n",
    "index = df[df.ID==\"34345\"].index[0]\n",
    "df.loc[index, 'Si'] = 149\n",
    "replace_outcome(\"34345\",\"Aprobado\",\"1\")\n",
    "\n",
    "index = df[df.ID==\"34346\"].index[0]\n",
    "df.loc[index, 'Si'] = 149\n",
    "replace_outcome(\"34346\",\"Aprobado\",\"1\")\n",
    "\n",
    "index = df[df.ID==\"34448\"].index[0]\n",
    "df.loc[index, 'Si'] = 142\n",
    "replace_outcome(\"34448\",\"Aprobado\",\"1\")\n",
    "\n",
    "index = df[df.ID==\"34449\"].index[0]\n",
    "df.loc[index, 'Si'] = 142\n",
    "replace_outcome(\"34449\",\"Aprobado\",\"1\")\n",
    "\n",
    "index = df[df.ID==\"34450\"].index[0]\n",
    "df.loc[index, 'Si'] = 142\n",
    "replace_outcome(\"34450\",\"Aprobado\",\"1\")\n",
    "\n",
    "index = df[df.ID==\"10008\"].index[0]\n",
    "df.loc[index, 'Si'] = 97\n",
    "replace_outcome(\"10008\",\"Aprobado\",\"1\")\n",
    "\n",
    "index = df[df.ID==\"10311\"].index[0]\n",
    "df.loc[index, 'Si'] = 79\n",
    "replace_outcome(\"10311\",\"Aprobado\",\"1\")\n",
    "\n",
    "index = df[df.ID==\"34723\"].index[0]\n",
    "df.loc[index, 'Si'] = df.loc[index-1, 'Si'] + df.loc[index-1, 'No'] + df.loc[index-1, 'Abstención']\n",
    "replace_outcome(\"34723\",\"Aprobado\",\"1\")\n",
    "\n",
    "index = df[df.ID==\"34838\"].index[0]\n",
    "df.loc[index, 'Si'] = df.loc[index-1, 'Si'] + df.loc[index-1, 'No'] + df.loc[index-1, 'Abstención']\n",
    "replace_outcome(\"34838\",\"Aprobado\",\"1\")\n",
    "\n",
    "index = df[df.ID==\"34920\"].index[0]\n",
    "df.loc[index, 'Si'] = 93\n",
    "replace_outcome(\"34920\",\"Aprobado\",\"1\")\n",
    "\n",
    "index = df[df.ID==\"10899\"].index[0]\n",
    "df.loc[index, 'Si'] = 33\n",
    "df.loc[index, 'Abstención'] = 1\n",
    "replace_outcome(\"10899\",\"Unánime\",\"2\")\n",
    "\n",
    "index = df[df.ID==\"15290\"].index[0]\n",
    "df.loc[index, 'Si'] = 105\n",
    "replace_outcome(\"15290\",\"Aprobado\",\"1\")"
   ]
  },
  {
   "attachments": {},
   "cell_type": "markdown",
   "metadata": {},
   "source": [
    "Deletes all votes that do not meet the minimum quorum. These votes are repeated until the quorum is met."
   ]
  },
  {
   "cell_type": "code",
   "execution_count": null,
   "metadata": {},
   "outputs": [],
   "source": [
    "print('Number of votes to delete:', len(df.index[df['Resultados2'] == \"Sin Quórum\"]))\n",
    "# Elimination of votes catalogued as \"no quorum\"\n",
    "df.drop(df.index[df['Resultados2'] == \"Sin Quórum\"], inplace=True)\n",
    "# Reset index\n",
    "df.reset_index(drop=True, inplace=True)"
   ]
  },
  {
   "attachments": {},
   "cell_type": "markdown",
   "metadata": {},
   "source": [
    "Compute the Agreement Ratio: Number of votes of the majority option divided by the total number of votes (including abstentions)"
   ]
  },
  {
   "cell_type": "code",
   "execution_count": null,
   "metadata": {},
   "outputs": [],
   "source": [
    "# Compute the Agreement Ratio\n",
    "def agreement_ratio(row):  \n",
    "    if row['Si'] > row['No']:\n",
    "        total = row['Si'] + row['No'] + row['Abstención']\n",
    "        if total > 0:\n",
    "            ar = row['Si'] / total\n",
    "            return ar\n",
    "    elif row['Si'] <= row['No']:\n",
    "        total = (row['Si'] + row['No'] + row['Abstención'])\n",
    "        if total > 0:\n",
    "            ar = row['No'] / (row['Si'] + row['No'] + row['Abstención'])\n",
    "            return ar\n",
    "\n",
    "df['agreement_ratio'] = df.apply(lambda row: agreement_ratio(row), axis=1)"
   ]
  },
  {
   "cell_type": "code",
   "execution_count": null,
   "metadata": {},
   "outputs": [],
   "source": [
    "# Asign the legislative session\n",
    "def legislative_term(row):  \n",
    "    if datetime.datetime(2002,3,11) <= row[\"Fecha\"] < datetime.datetime(2006,3,11):\n",
    "        return \"2002-2006\"\n",
    "    elif datetime.datetime(2006,3,11) <= row[\"Fecha\"] < datetime.datetime(2010,3,11):\n",
    "        return \"2006-2010\"\n",
    "    elif datetime.datetime(2010,3,11) <= row[\"Fecha\"] < datetime.datetime(2014,3,11):\n",
    "        return \"2010-2014\"\n",
    "    elif datetime.datetime(2014,3,11) <= row[\"Fecha\"] < datetime.datetime(2018,3,11):\n",
    "        return \"2014-2018\"\n",
    "    elif datetime.datetime(2018,3,11) <= row[\"Fecha\"] < datetime.datetime(2022,3,11):\n",
    "        return \"2018-2022\"\n",
    "    elif datetime.datetime(2022,3,11) <= row[\"Fecha\"] < datetime.datetime(2026,3,11):\n",
    "        return \"2018-2022\"\n",
    "\n",
    "df['legislative_term'] = df.apply(lambda row: legislative_term(row), axis=1)"
   ]
  },
  {
   "attachments": {},
   "cell_type": "markdown",
   "metadata": {},
   "source": [
    "Cleaning the dataframe and renaming the columns"
   ]
  },
  {
   "cell_type": "code",
   "execution_count": null,
   "metadata": {},
   "outputs": [],
   "source": [
    "df.drop(['Resultado'], axis=1, inplace=True)\n",
    "df.rename(columns = {'Fecha':'Date', 'Descripción':'Description', 'Si':'Yes',\n",
    "                    'Abstención':'Abstention', 'Dispensado':'Dispensed',\n",
    "                    'Tipo':'Type', 'Resultados2':'voting_outcome_name'}, inplace = True)\n",
    "\n",
    "df['Type'].replace(['Proyecto de Ley', 'Proyecto de Acuerdo', 'Proyecto de Resolución', 'Otros'],\n",
    "                   ['Law Project', 'Agreement Project', 'Resolution Project', 'Other'], inplace=True)\n",
    "df['voting_outcome_name'].replace(['Aprobado', 'Unánime'],\n",
    "                                  ['Approved', 'Rejected'], inplace=True)\n"
   ]
  },
  {
   "attachments": {},
   "cell_type": "markdown",
   "metadata": {},
   "source": [
    "| Column              | Meaning                                                                                                                    |\n",
    "|---------------------|----------------------------------------------------------------------------------------------------------------------------|\n",
    "| ID                  | Identifier code of each vote                                                                                               |\n",
    "| Date                | Date of each vote (yyyy-mm-dd hh:mm:ss)                                                                                    |\n",
    "| Description         | Brief description of the content of the vote. In most cases it only indicates the bulletin number to which it corresponds. |\n",
    "| Yes                 | Number of votes in favor                                                                                                   |\n",
    "| No                  | Number of votes against                                                                                                    |\n",
    "| Abstention          | Number of deputies who abstained from voting                                                                               |\n",
    "| Dispensed           | Number of deputies excused to be absent for each vote                                                                      |\n",
    "| Type                | Type of vote, which can be: Bill (or Law Project), Agreement Project, Resolution Project, or Other.                        |\n",
    "| Quorum              | Type of quorum required for a vote to pass                                                                                 |\n",
    "| voting_outcome_name | Name of voting outcome: Approved (Pass) or Reject                                                                          |\n",
    "| voting_outcome      | Numerical coding of voting outcome: Approved (Pass) = 1, Rejected = 2                                                      |\n",
    "| agreement_ratio     | Number of votes of the majority option divided by the total number of votes (including abstentions)                        |\n",
    "| legislative_term    | Legislative term in which each vote occurs                                                                                 |\n",
    "\n",
    "Agreement Project: It is the proposal that 1 and up to 10, deputies and/or deputies present in writing to the Chamber, with the purpose of exercising the powers conferred by Article 52, number 1, first paragraph of letter a), of the Political Constitution, to adopt agreements or suggest observations on the acts of the Government, having to so express it, invoking in its text said constitutional norm.\n",
    "\n",
    "Resolution Project: It is the proposal that 1 and up to 10, deputies and/or deputies present in writing to the Chamber with the purpose of obtaining a pronouncement of the Chamber of Deputies and Deputies on issues of general interest, both national and international, expressing their concern about them.\n",
    "\n",
    "Other: Constitutional accusations, votes to establish investigatory commissions, and other internal matters of the chamber that do not constitute a law or bill."
   ]
  },
  {
   "cell_type": "code",
   "execution_count": null,
   "metadata": {},
   "outputs": [],
   "source": [
    "df.head()"
   ]
  },
  {
   "attachments": {},
   "cell_type": "markdown",
   "metadata": {},
   "source": [
    "Saves the data used for the study in csv format. The agreement_ratio and voting_outcome columns were considered for the analyses."
   ]
  },
  {
   "cell_type": "code",
   "execution_count": null,
   "metadata": {},
   "outputs": [],
   "source": [
    "# Store the data\n",
    "df.to_csv(f\"votes_{from_year}-{to_year}.csv\", encoding=\"utf-8\")"
   ]
  },
  {
   "attachments": {},
   "cell_type": "markdown",
   "metadata": {},
   "source": [
    "Those who are interested can remove more votes that in theory should not meet the minimum quorum. A simple rule is used, which eliminates all ballots whose sum of votes is equal to or less than 38 votes. However, this rule may eliminate valid votes. It would be necessary to review possible changes in legislation of the Chamber of Deputies and minimum quorums to be sure that this rule is applicable."
   ]
  },
  {
   "cell_type": "code",
   "execution_count": null,
   "metadata": {},
   "outputs": [],
   "source": [
    "# Deletes all votes that do not meet the minimum quorum and are not registered as such\n",
    "# Computes the sum of the votes\n",
    "df['sum'] = df['Yes'] + df['No'] + df['Abstention']\n",
    "# Votes where 38 or fewer deputies voted do not have the minimum quorum required.\n",
    "df = df[df['sum'] > 38]\n",
    "# Drop sum column\n",
    "df.drop(['sum'], axis=1, inplace=True)\n",
    "# Reset index\n",
    "df.reset_index(drop=True, inplace=True)\n",
    "\n",
    "# Store the data\n",
    "df.to_csv(f\"votes_{from_year}-{to_year}_v2.csv\", encoding=\"utf-8\")"
   ]
  }
 ],
 "metadata": {
  "kernelspec": {
   "display_name": "Python 3",
   "language": "python",
   "name": "python3"
  },
  "language_info": {
   "codemirror_mode": {
    "name": "ipython",
    "version": 3
   },
   "file_extension": ".py",
   "mimetype": "text/x-python",
   "name": "python",
   "nbconvert_exporter": "python",
   "pygments_lexer": "ipython3",
   "version": "3.9.1"
  },
  "orig_nbformat": 4,
  "vscode": {
   "interpreter": {
    "hash": "6e89d357048a99888d8c72da4676f22000037543d020fbfcfd8658ce81c63d69"
   }
  }
 },
 "nbformat": 4,
 "nbformat_minor": 2
}
